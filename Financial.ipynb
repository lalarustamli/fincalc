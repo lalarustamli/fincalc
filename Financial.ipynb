{
 "cells": [
  {
   "cell_type": "code",
   "execution_count": 3,
   "metadata": {},
   "outputs": [],
   "source": [
    "revenue = [14574.49, 7606.46, 8611.41, 9175.41, 8058.65, 8105.44, 11496.28, 9766.09, 10305.32, 14379.96, 10713.97, 15433.50]\n",
    "expenses = [12051.82, 5695.07, 12319.20, 12089.72, 8658.57, 840.20, 3285.73, 5821.12, 6976.93, 16618.61, 10054.37, 3803.96]"
   ]
  },
  {
   "cell_type": "code",
   "execution_count": 109,
   "metadata": {},
   "outputs": [
    {
     "name": "stdout",
     "output_type": "stream",
     "text": [
      "December:8140.678000000001\n",
      "March:-2595.4530000000004\n"
     ]
    }
   ],
   "source": [
    "from statistics import mean\n",
    "months=['January','February','March','April','May','June','July','August','September','October','November','December']\n",
    "#profit calculator\n",
    "\n",
    "profits=list()\n",
    "\n",
    "def profit_calc(revenue,expenses):\n",
    "    for i in range(len(revenue)):\n",
    "        profits.append(revenue[i]-expenses[i])\n",
    "\n",
    "profit_calc(revenue,expenses)\n",
    "#aftertax profit calculator\n",
    "tax=0.3\n",
    "\n",
    "aftertax_profits=list()\n",
    "\n",
    "def tax_calc(profits, tax):\n",
    "    for a in profits:\n",
    "        taxed=a-a*tax\n",
    "        aftertax_profits.append(taxed)\n",
    "    return aftertax_profits\n",
    "\n",
    "tax_calc(profits,tax)\n",
    "\n",
    "#profit margin calculator\n",
    "profit_margins=list()\n",
    "\n",
    "def prof_marg_calc(aftertax_profits, revenue):\n",
    "    for a,b in zip(aftertax_profits,revenue):\n",
    "        profit_margin=a/b\n",
    "        profit_margins.append(profit_margin)\n",
    "    return profit_margins\n",
    "\n",
    "prof_marg_calc(aftertax_profits, revenue)\n",
    "\n",
    "#good months calculator\n",
    "good_months=list()\n",
    "bad_months=list()\n",
    "def good_month_calc(aftertax_profits, months):\n",
    "    mean1=mean(aftertax_profits)\n",
    "    for i in aftertax_profits:\n",
    "        if i>mean1:\n",
    "            good_months.append(months[aftertax_profits.index(i)]+\" : \"+str(i))\n",
    "        else:\n",
    "            bad_months.append(months[aftertax_profits.index(i)]+\" : \"+str(i))\n",
    "    return (good_months)\n",
    "good_month_calc(aftertax_profits, months)\n",
    "\n",
    "best_month=months[aftertax_profits.index(max(aftertax_profits))]\n",
    "print(best_month + \":\"+ str(max(aftertax_profits)))\n",
    "worst_month=months[aftertax_profits.index(min(aftertax_profits))]\n",
    "print(worst_month + \":\"+ str(min(aftertax_profits)))\n",
    "\n",
    "    "
   ]
  },
  {
   "cell_type": "code",
   "execution_count": null,
   "metadata": {},
   "outputs": [],
   "source": []
  },
  {
   "cell_type": "code",
   "execution_count": null,
   "metadata": {},
   "outputs": [],
   "source": []
  }
 ],
 "metadata": {
  "kernelspec": {
   "display_name": "Python 3",
   "language": "python",
   "name": "python3"
  },
  "language_info": {
   "codemirror_mode": {
    "name": "ipython",
    "version": 3
   },
   "file_extension": ".py",
   "mimetype": "text/x-python",
   "name": "python",
   "nbconvert_exporter": "python",
   "pygments_lexer": "ipython3",
   "version": "3.7.1"
  }
 },
 "nbformat": 4,
 "nbformat_minor": 2
}
